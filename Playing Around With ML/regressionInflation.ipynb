{
 "cells": [
  {
   "cell_type": "code",
   "execution_count": 2,
   "metadata": {},
   "outputs": [
    {
     "data": {
      "text/plain": [
       "<bound method NDFrame.head of          Yearmon      CPI\n",
       "0     01-01-1913    9.800\n",
       "1     01-02-1913    9.800\n",
       "2     01-03-1913    9.800\n",
       "3     01-04-1913    9.800\n",
       "4     01-05-1913    9.700\n",
       "...          ...      ...\n",
       "1298  01-03-2021  264.877\n",
       "1299  01-04-2021  267.054\n",
       "1300  01-05-2021  269.195\n",
       "1301  01-06-2021  271.696\n",
       "1302  01-07-2021  273.003\n",
       "\n",
       "[1303 rows x 2 columns]>"
      ]
     },
     "execution_count": 2,
     "metadata": {},
     "output_type": "execute_result"
    }
   ],
   "source": [
    "import pandas as pd\n",
    "data = pd.read_csv(\"/Users/abhir/Desktop/US CPI.csv\")\n",
    "data.head"
   ]
  }
 ],
 "metadata": {
  "kernelspec": {
   "display_name": "Python 3.10.4 64-bit",
   "language": "python",
   "name": "python3"
  },
  "language_info": {
   "codemirror_mode": {
    "name": "ipython",
    "version": 3
   },
   "file_extension": ".py",
   "mimetype": "text/x-python",
   "name": "python",
   "nbconvert_exporter": "python",
   "pygments_lexer": "ipython3",
   "version": "3.10.4"
  },
  "orig_nbformat": 4,
  "vscode": {
   "interpreter": {
    "hash": "98590ff4fe04c8543246b2a01debd3de3c5ca9b666f43f1fa87d5110c692004c"
   }
  }
 },
 "nbformat": 4,
 "nbformat_minor": 2
}
